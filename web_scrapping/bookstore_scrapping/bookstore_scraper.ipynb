{
 "cells": [
  {
   "cell_type": "markdown",
   "id": "e49530a6-c46e-4363-8059-9d4b0c84e051",
   "metadata": {},
   "source": [
    "Add the following line to 'crontab -e'\n",
    "\n",
    "0 15 * * * path/to/run_spider.sh"
   ]
  },
  {
   "cell_type": "code",
   "execution_count": 2,
   "id": "d5bff683-ad54-4cfa-aefa-66029e0b152a",
   "metadata": {},
   "outputs": [
    {
     "name": "stdout",
     "output_type": "stream",
     "text": [
      "# Edit this file to introduce tasks to be run by cron.\n",
      "# \n",
      "gh a single lineun has to be defined throu\n",
      "# indicating with different fields when the task will be run\n",
      "run for the tasknd to \n",
      "# \n",
      "# To define the time you can provide concrete values for\n",
      " day of month (dom), month (mon),\n",
      "# and day of week (dow) or use '*' in these fields (for 'any').\n",
      "# \n",
      "# Notice that tasks will be started based on the cron's system\n",
      "nes.emon's notion of time and timezo\n",
      "# \n",
      "# Output of the crontab jobs (including errors) is sent through\n",
      "tab file belongs to (unless redirected).\n",
      "# \n",
      "ounts example, you can run a backup of all your user acc\n",
      "# at 5 a.m every week with:\n",
      "# 0 5 * * 1 tar -zcf /var/backups/home.tgz /home/\n",
      "# \n",
      "formation see the manual pages of crontab(5) and cron(8)\n",
      "# \n",
      "# m h  dom mon dow   command\n",
      "/home/ricardo/data_engineer_notes/DataEngineerNotes/library_web_scrapping/run_spider.sh\n",
      "home/ricardo/data_engineer_notes/DataEngineerNotes/library_web_scrapping/run_spider.sh\n",
      "\n"
     ]
    }
   ],
   "source": [
    "%%sh\n",
    "\n",
    "crontab -l"
   ]
  },
  {
   "cell_type": "code",
   "execution_count": 1,
   "id": "e7802ebb-349a-48fe-ab61-1218692fda5d",
   "metadata": {},
   "outputs": [],
   "source": [
    "import duckdb"
   ]
  },
  {
   "cell_type": "code",
   "execution_count": 2,
   "id": "b5f28404-769e-42a3-9fc8-737f090633b4",
   "metadata": {},
   "outputs": [],
   "source": [
    "books = duckdb.sql(\"select * from read_csv('data/*.csv', header = true);\")"
   ]
  },
  {
   "cell_type": "code",
   "execution_count": 4,
   "id": "741fc7b7-e544-4007-981b-8ddbecb2ac4b",
   "metadata": {},
   "outputs": [
    {
     "data": {
      "text/plain": [
       "┌────────────────────────────────────────────────────────────────────┬───────────────────┬─────────┬────────────────────────────────┬──────────────────┬───────────┬──────────┬─────────────────────────────────┐\n",
       "│                                name                                │      author       │  price  │           editorial            │ publication_date │ num_pages │ language │           lista_temas           │\n",
       "│                              varchar                               │      varchar      │ varchar │            varchar             │      int64       │   int64   │ varchar  │             varchar             │\n",
       "├────────────────────────────────────────────────────────────────────┼───────────────────┼─────────┼────────────────────────────────┼──────────────────┼───────────┼──────────┼─────────────────────────────────┤\n",
       "│ Nacidos de la Bruma 6 Brazales de duelo                            │ BRANDON SANDERSON │ ₡19,800 │ NOVA                           │             2017 │       200 │ Español  │ Ficción,Literatura,Adulto Joven │\n",
       "│ Alcatraz Vs The Evil Librarians 06 Bastille Vs The Evil Librarians │ BRANDON SANDERSON │ ₡8,500  │ STARSCAPE BOOKS                │             2023 │       272 │ Inglés   │ Ficción,Literatura,Adulto Joven │\n",
       "│ Dark One 1 (Graphic Novel)                                         │ BRANDON SANDERSON │ ₡15,900 │ SIMON & SCHUSTER BOOKS FOR YOU │             2023 │       224 │ Inglés   │ Ficción,Novela Gráfica          │\n",
       "│ Mistborn 5 Shadows Of Self                                         │ BRANDON SANDERSON │ ₡7,900  │ PAGE STREET PUBLISHING         │             2021 │         1 │ Inglés   │ Ficción,Otras Lenguas,Inglés    │\n",
       "└────────────────────────────────────────────────────────────────────┴───────────────────┴─────────┴────────────────────────────────┴──────────────────┴───────────┴──────────┴─────────────────────────────────┘"
      ]
     },
     "execution_count": 4,
     "metadata": {},
     "output_type": "execute_result"
    }
   ],
   "source": [
    "duckdb.sql(\"select * from books where num_pages <= 300;\")"
   ]
  },
  {
   "cell_type": "markdown",
   "id": "3727f6e0-1947-4757-9607-a63d9b3c745b",
   "metadata": {},
   "source": [
    "Still need to do some transformations on the columns"
   ]
  },
  {
   "cell_type": "code",
   "execution_count": null,
   "id": "89d80113-adfc-4bfb-bed4-a68fc550ca88",
   "metadata": {},
   "outputs": [],
   "source": []
  }
 ],
 "metadata": {
  "kernelspec": {
   "display_name": "Python 3 (ipykernel)",
   "language": "python",
   "name": "python3"
  },
  "language_info": {
   "codemirror_mode": {
    "name": "ipython",
    "version": 3
   },
   "file_extension": ".py",
   "mimetype": "text/x-python",
   "name": "python",
   "nbconvert_exporter": "python",
   "pygments_lexer": "ipython3",
   "version": "3.12.3"
  }
 },
 "nbformat": 4,
 "nbformat_minor": 5
}
