{
 "cells": [
  {
   "cell_type": "code",
   "execution_count": 2,
   "id": "6a3900ae-5a05-4928-98ef-55cadef73af8",
   "metadata": {},
   "outputs": [],
   "source": [
    "base_url = 'https://www.libreriainternacional.com/catalogsearch/result/?q='"
   ]
  },
  {
   "cell_type": "code",
   "execution_count": 3,
   "id": "4c40346d-a529-48be-a798-44bdfeee86db",
   "metadata": {},
   "outputs": [],
   "source": [
    "q_look_up = 'brandon sanderson'"
   ]
  },
  {
   "cell_type": "code",
   "execution_count": 4,
   "id": "f60f944d-5c34-40e1-9a01-350dcc6f9871",
   "metadata": {},
   "outputs": [
    {
     "data": {
      "text/plain": [
       "'brandon+sanderson'"
      ]
     },
     "execution_count": 4,
     "metadata": {},
     "output_type": "execute_result"
    }
   ],
   "source": [
    "def transform_q(s: str) -> str:\n",
    "    return s\n",
    "\n",
    "q_look_up = q_look_up.strip().replace(' ','+')\n",
    "q_look_up"
   ]
  },
  {
   "cell_type": "code",
   "execution_count": 5,
   "id": "b1e82906-9660-49fd-b7ae-a535de7156d6",
   "metadata": {},
   "outputs": [
    {
     "data": {
      "text/plain": [
       "'https://www.libreriainternacional.com/catalogsearch/result/?q=brandon+sanderson'"
      ]
     },
     "execution_count": 5,
     "metadata": {},
     "output_type": "execute_result"
    }
   ],
   "source": [
    "complete_url = base_url+q_look_up\n",
    "complete_url"
   ]
  },
  {
   "cell_type": "code",
   "execution_count": null,
   "id": "acb1a3c1-7e1a-4d9e-8e4f-ea6f214083b1",
   "metadata": {},
   "outputs": [],
   "source": []
  }
 ],
 "metadata": {
  "kernelspec": {
   "display_name": "Python 3 (ipykernel)",
   "language": "python",
   "name": "python3"
  },
  "language_info": {
   "codemirror_mode": {
    "name": "ipython",
    "version": 3
   },
   "file_extension": ".py",
   "mimetype": "text/x-python",
   "name": "python",
   "nbconvert_exporter": "python",
   "pygments_lexer": "ipython3",
   "version": "3.12.3"
  }
 },
 "nbformat": 4,
 "nbformat_minor": 5
}
