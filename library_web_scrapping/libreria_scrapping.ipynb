{
 "cells": [
  {
   "cell_type": "code",
   "execution_count": 1,
   "id": "e7802ebb-349a-48fe-ab61-1218692fda5d",
   "metadata": {},
   "outputs": [],
   "source": [
    "import duckdb"
   ]
  },
  {
   "cell_type": "code",
   "execution_count": 7,
   "id": "b5f28404-769e-42a3-9fc8-737f090633b4",
   "metadata": {},
   "outputs": [],
   "source": [
    "books = duckdb.sql(\"select * from read_csv('libreria_scrapping/book.csv', header = true);\")"
   ]
  },
  {
   "cell_type": "code",
   "execution_count": 9,
   "id": "741fc7b7-e544-4007-981b-8ddbecb2ac4b",
   "metadata": {},
   "outputs": [
    {
     "data": {
      "text/plain": [
       "┌───────────────────────────────────────────────────────────────────────────────┬───────────────────┬─────────┬────────────────────────┬──────────────────┬───────────┬──────────┬────────────────────────────────────┐\n",
       "│                                     name                                      │      author       │  price  │       editorial        │ publication_date │ num_pages │ language │            lista_temas             │\n",
       "│                                    varchar                                    │      varchar      │ varchar │        varchar         │      int64       │   int64   │ varchar  │              varchar               │\n",
       "├───────────────────────────────────────────────────────────────────────────────┼───────────────────┼─────────┼────────────────────────┼──────────────────┼───────────┼──────────┼────────────────────────────────────┤\n",
       "│ Skyward 02 Starsight                                                          │ BRANDON SANDERSON │ ₡11,900 │ EMBER                  │             2021 │       480 │ Inglés   │ Ficción,Literatura,Adulto Joven    │\n",
       "│ Skyward 04 Defiant                                                            │ BRANDON SANDERSON │ ₡8,900  │ DELACORTE PRESS        │             2024 │       432 │ Inglés   │ Ficción,Otras Lenguas,Inglés       │\n",
       "│ Escuadrón 3 Citónica                                                          │ BRANDON SANDERSON │ ₡16,800 │ NOVA                   │             2021 │       432 │ Español  │ Ficción,Literatura,Ciencia Ficción │\n",
       "│ Skyward 03 Cytonic                                                            │ BRANDON SANDERSON │ ₡11,900 │ EMBER                  │             2022 │       432 │ Inglés   │ Ficción,Literatura,Adulto Joven    │\n",
       "│ Estelar (Escuadrón 2)                                                         │ BRANDON SANDERSON │ ₡11,900 │ B DE BOLSILLO          │             2024 │       464 │ Español  │ Ficción,Literatura,Ciencia Ficción │\n",
       "│ Reckoners 01 Steelheart                                                       │ BRANDON SANDERSON │ ₡10,500 │ EMBER                  │             2014 │       416 │ Inglés   │ Ficción,Literatura,Adulto Joven    │\n",
       "│ Citónica (Escuadrón 3)                                                        │ BRANDON SANDERSON │ ₡11,900 │ B DE BOLSILLO          │             2024 │       456 │ Español  │ Ficción,Literatura,Ciencia Ficción │\n",
       "│ Mistborn 5 Shadows Of Self                                                    │ BRANDON SANDERSON │ ₡7,900  │ PAGE STREET PUBLISHING │             2021 │         1 │ Inglés   │ Ficción,Otras Lenguas,Inglés       │\n",
       "│ Nacidos de la Bruma 5 Sombras de identidad                                    │ BRANDON SANDERSON │ ₡11,900 │ B DE BOLSILLO          │             2019 │       448 │ Español  │ Ficción,Literatura,Adulto Joven    │\n",
       "│ Desafiante (Escuadrón 4)                                                      │ BRANDON SANDERSON │ ₡18,000 │ NOVA                   │             2023 │       382 │ Español  │ Ficción,Literatura,Ciencia Ficción │\n",
       "│            ·                                                                  │         ·         │    ·    │  ·                     │               ·  │        ·  │    ·     │              ·                     │\n",
       "│            ·                                                                  │         ·         │    ·    │  ·                     │               ·  │        ·  │    ·     │              ·                     │\n",
       "│            ·                                                                  │         ·         │    ·    │  ·                     │               ·  │        ·  │    ·     │              ·                     │\n",
       "│ Novela Secreta 02 La guía del mago frugal (Edición Limitada) (TD)             │ BRANDON SANDERSON │ ₡14,800 │ B DE BOLSILLO          │             2025 │       448 │ Español  │ Ficción,Literatura,Fantasía        │\n",
       "│ Alcatraz Vs The Evil Librarians 06 Bastille Vs The Evil Librarians            │ BRANDON SANDERSON │ ₡8,500  │ STARSCAPE BOOKS        │             2023 │       272 │ Inglés   │ Ficción,Literatura,Adulto Joven    │\n",
       "│ Secret Projects 2 Frugal Wizards Handbook For Surviving Medieval England (HC) │ BRANDON SANDERSON │ ₡22,800 │ TOR BOOKS              │             2023 │       384 │ Inglés   │ Ficción,Otras Lenguas,Inglés       │\n",
       "│ Alcatraz Vs The Evil Librarians 2 Scriveners Bones                            │ BRANDON SANDERSON │ ₡8,700  │ STARSCAPE BOOKS        │             2022 │       368 │ Inglés   │ Libros,9 a 12 años,Súper lectores  │\n",
       "│ Alcatraz Vs The Evil Librarians 5 Dark Talent                                 │ BRANDON SANDERSON │ ₡7,900  │ STARSCAPE BOOKS        │             2022 │       304 │ Inglés   │ Libros,9 a 12 años,Súper lectores  │\n",
       "│ Secret Projects 3 Yumi And The Nightmare Painter (HC)                         │ BRANDON SANDERSON │ ₡22,800 │ TOR BOOKS              │             2023 │       400 │ Inglés   │ Ficción,Otras Lenguas,Inglés       │\n",
       "│ Aleación de ley  (Wax & Wayne 01)                                             │ BRANDON SANDERSON │ ₡18,000 │ NOVA                   │             2024 │       352 │ Español  │ Ficción,Literatura,Fantasía        │\n",
       "│ Mistborn 05 Shadows Of Self (Ne)                                              │ BRANDON SANDERSON │ ₡17,500 │ TOR BOOKS              │             2023 │       400 │ Inglés   │ Ficción,Otras Lenguas,Inglés       │\n",
       "│ Sombras de identidad (Wax & Wayne 02)                                         │ BRANDON SANDERSON │ ₡18,000 │ NOVA                   │             2024 │       440 │ Español  │ Ficción,Literatura,Fantasía        │\n",
       "│ Reckoners 03 Calamity                                                         │ BRANDON SANDERSON │ ₡8,900  │ DELACORTE PRESS        │             2020 │       496 │ Inglés   │ Ficción,Literatura,Adulto Joven    │\n",
       "├───────────────────────────────────────────────────────────────────────────────┴───────────────────┴─────────┴────────────────────────┴──────────────────┴───────────┴──────────┴────────────────────────────────────┤\n",
       "│ 36 rows (20 shown)                                                                                                                                                                                        8 columns │\n",
       "└─────────────────────────────────────────────────────────────────────────────────────────────────────────────────────────────────────────────────────────────────────────────────────────────────────────────────────┘"
      ]
     },
     "execution_count": 9,
     "metadata": {},
     "output_type": "execute_result"
    }
   ],
   "source": [
    "duckdb.sql(\"select * from books where num_pages <= 500;\")"
   ]
  },
  {
   "cell_type": "code",
   "execution_count": null,
   "id": "2dc00660-bbaf-45d7-97d9-bb7ab1614de2",
   "metadata": {},
   "outputs": [],
   "source": []
  }
 ],
 "metadata": {
  "kernelspec": {
   "display_name": "Python 3 (ipykernel)",
   "language": "python",
   "name": "python3"
  },
  "language_info": {
   "codemirror_mode": {
    "name": "ipython",
    "version": 3
   },
   "file_extension": ".py",
   "mimetype": "text/x-python",
   "name": "python",
   "nbconvert_exporter": "python",
   "pygments_lexer": "ipython3",
   "version": "3.12.3"
  }
 },
 "nbformat": 4,
 "nbformat_minor": 5
}
