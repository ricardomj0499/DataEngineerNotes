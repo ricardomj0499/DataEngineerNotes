{
 "cells": [
  {
   "cell_type": "markdown",
   "id": "e49530a6-c46e-4363-8059-9d4b0c84e051",
   "metadata": {},
   "source": [
    "Add the following line to 'crontab -e'\n",
    "0 15 * * * rout/to/run_spider.sh"
   ]
  },
  {
   "cell_type": "code",
   "execution_count": 10,
   "id": "d5bff683-ad54-4cfa-aefa-66029e0b152a",
   "metadata": {},
   "outputs": [],
   "source": [
    "%%sh\n",
    "# crontab -l"
   ]
  },
  {
   "cell_type": "code",
   "execution_count": 11,
   "id": "e7802ebb-349a-48fe-ab61-1218692fda5d",
   "metadata": {},
   "outputs": [],
   "source": [
    "import duckdb"
   ]
  },
  {
   "cell_type": "code",
   "execution_count": 13,
   "id": "b5f28404-769e-42a3-9fc8-737f090633b4",
   "metadata": {},
   "outputs": [],
   "source": [
    "books = duckdb.sql(\"select * from read_csv('data/*.csv', header = true);\")"
   ]
  },
  {
   "cell_type": "code",
   "execution_count": 16,
   "id": "741fc7b7-e544-4007-981b-8ddbecb2ac4b",
   "metadata": {},
   "outputs": [
    {
     "data": {
      "text/plain": [
       "┌───────────────────────────────────────────────────────┬───────────────────┬─────────┬────────────────────────┬──────────────────┬───────────┬──────────┬────────────────────────────────────┐\n",
       "│                         name                          │      author       │  price  │       editorial        │ publication_date │ num_pages │ language │            lista_temas             │\n",
       "│                        varchar                        │      varchar      │ varchar │        varchar         │      int64       │   int64   │ varchar  │              varchar               │\n",
       "├───────────────────────────────────────────────────────┼───────────────────┼─────────┼────────────────────────┼──────────────────┼───────────┼──────────┼────────────────────────────────────┤\n",
       "│ Reckoners 03 Calamity                                 │ BRANDON SANDERSON │ ₡8,900  │ DELACORTE PRESS        │             2020 │       496 │ Inglés   │ Ficción,Literatura,Adulto Joven    │\n",
       "│ Skyward 04 Defiant                                    │ BRANDON SANDERSON │ ₡8,900  │ DELACORTE PRESS        │             2024 │       432 │ Inglés   │ Ficción,Otras Lenguas,Inglés       │\n",
       "│ Estelar (Escuadrón 2)                                 │ BRANDON SANDERSON │ ₡11,900 │ B DE BOLSILLO          │             2024 │       464 │ Español  │ Ficción,Literatura,Ciencia Ficción │\n",
       "│ Citónica (Escuadrón 3)                                │ BRANDON SANDERSON │ ₡11,900 │ B DE BOLSILLO          │             2024 │       456 │ Español  │ Ficción,Literatura,Ciencia Ficción │\n",
       "│ Skyward 03 Cytonic                                    │ BRANDON SANDERSON │ ₡11,900 │ EMBER                  │             2022 │       432 │ Inglés   │ Ficción,Literatura,Adulto Joven    │\n",
       "│ Reckoners 01 Steelheart                               │ BRANDON SANDERSON │ ₡10,500 │ EMBER                  │             2014 │       416 │ Inglés   │ Ficción,Literatura,Adulto Joven    │\n",
       "│ Escuadrón 3 Citónica                                  │ BRANDON SANDERSON │ ₡16,800 │ NOVA                   │             2021 │       432 │ Español  │ Ficción,Literatura,Ciencia Ficción │\n",
       "│ Skyward 02 Starsight                                  │ BRANDON SANDERSON │ ₡11,900 │ EMBER                  │             2021 │       480 │ Inglés   │ Ficción,Literatura,Adulto Joven    │\n",
       "│ Desafiante (Escuadrón 4)                              │ BRANDON SANDERSON │ ₡18,000 │ NOVA                   │             2023 │       382 │ Español  │ Ficción,Literatura,Ciencia Ficción │\n",
       "│ Rithmatist                                            │ BRANDON SANDERSON │ ₡9,500  │ TOR TEEN               │             2014 │       384 │ Inglés   │ Ficción,Otras Lenguas,Inglés       │\n",
       "│     ·                                                 │         ·         │   ·     │    ·                   │               ·  │        ·  │   ·      │              ·                     │\n",
       "│     ·                                                 │         ·         │   ·     │    ·                   │               ·  │        ·  │   ·      │              ·                     │\n",
       "│     ·                                                 │         ·         │   ·     │    ·                   │               ·  │        ·  │   ·      │              ·                     │\n",
       "│ Alcatraz Vs The Evil Librarians 2 Scriveners Bones    │ BRANDON SANDERSON │ ₡8,700  │ STARSCAPE BOOKS        │             2022 │       368 │ Inglés   │ Libros,9 a 12 años,Súper lectores  │\n",
       "│ Alcatraz Vs The Evil Librarians 5 Dark Talent         │ BRANDON SANDERSON │ ₡7,900  │ STARSCAPE BOOKS        │             2022 │       304 │ Inglés   │ Libros,9 a 12 años,Súper lectores  │\n",
       "│ Secret Projects 3 Yumi And The Nightmare Painter (HC) │ BRANDON SANDERSON │ ₡22,800 │ TOR BOOKS              │             2023 │       400 │ Inglés   │ Ficción,Otras Lenguas,Inglés       │\n",
       "│ Secret Projects 4 Sunlit Man (HC)                     │ BRANDON SANDERSON │ ₡19,800 │ TOR BOOKS              │             2024 │       400 │ Inglés   │ Ficción,Otras Lenguas,Inglés       │\n",
       "│ Mistborn 06 Bands Of Mourning (Ne)                    │ BRANDON SANDERSON │ ₡17,500 │ TOR BOOKS              │             2023 │       480 │ Inglés   │ Ficción,Otras Lenguas,Inglés       │\n",
       "│ Mistborn 05 Shadows Of Self (Ne)                      │ BRANDON SANDERSON │ ₡17,500 │ TOR BOOKS              │             2023 │       400 │ Inglés   │ Ficción,Otras Lenguas,Inglés       │\n",
       "│ Stormlight Archive 3.5 Dawnshard (HC)                 │ BRANDON SANDERSON │ ₡9,900  │ TOR BOOKS              │             2022 │       304 │ Inglés   │ Ficción,Otras Lenguas,Inglés       │\n",
       "│ Mistborn 5 Shadows Of Self                            │ BRANDON SANDERSON │ ₡7,900  │ PAGE STREET PUBLISHING │             2021 │         1 │ Inglés   │ Ficción,Otras Lenguas,Inglés       │\n",
       "│ Aleación de ley  (Wax & Wayne 01)                     │ BRANDON SANDERSON │ ₡18,000 │ NOVA                   │             2024 │       352 │ Español  │ Ficción,Literatura,Fantasía        │\n",
       "│ Sombras de identidad (Wax & Wayne 02)                 │ BRANDON SANDERSON │ ₡18,000 │ NOVA                   │             2024 │       440 │ Español  │ Ficción,Literatura,Fantasía        │\n",
       "├───────────────────────────────────────────────────────┴───────────────────┴─────────┴────────────────────────┴──────────────────┴───────────┴──────────┴────────────────────────────────────┤\n",
       "│ 105 rows (20 shown)                                                                                                                                                               8 columns │\n",
       "└─────────────────────────────────────────────────────────────────────────────────────────────────────────────────────────────────────────────────────────────────────────────────────────────┘"
      ]
     },
     "execution_count": 16,
     "metadata": {},
     "output_type": "execute_result"
    }
   ],
   "source": [
    "duckdb.sql(\"select * from books where num_pages <= 500;\")"
   ]
  },
  {
   "cell_type": "code",
   "execution_count": 15,
   "id": "2dc00660-bbaf-45d7-97d9-bb7ab1614de2",
   "metadata": {},
   "outputs": [
    {
     "name": "stdout",
     "output_type": "stream",
     "text": [
      "HOla miamor\n"
     ]
    }
   ],
   "source": [
    "print(\"HOla miamor\")"
   ]
  },
  {
   "cell_type": "code",
   "execution_count": null,
   "id": "e1a66835-d12b-4b56-8296-d168d5889e82",
   "metadata": {},
   "outputs": [],
   "source": []
  }
 ],
 "metadata": {
  "kernelspec": {
   "display_name": "Python 3 (ipykernel)",
   "language": "python",
   "name": "python3"
  },
  "language_info": {
   "codemirror_mode": {
    "name": "ipython",
    "version": 3
   },
   "file_extension": ".py",
   "mimetype": "text/x-python",
   "name": "python",
   "nbconvert_exporter": "python",
   "pygments_lexer": "ipython3",
   "version": "3.12.3"
  }
 },
 "nbformat": 4,
 "nbformat_minor": 5
}
